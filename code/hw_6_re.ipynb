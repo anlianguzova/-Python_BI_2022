{
  "nbformat": 4,
  "nbformat_minor": 0,
  "metadata": {
    "colab": {
      "provenance": [],
      "authorship_tag": "ABX9TyOEIS0mTTAaxBddvFfE5M4d",
      "include_colab_link": true
    },
    "kernelspec": {
      "name": "python3",
      "display_name": "Python 3"
    },
    "language_info": {
      "name": "python"
    }
  },
  "cells": [
    {
      "cell_type": "markdown",
      "metadata": {
        "id": "view-in-github",
        "colab_type": "text"
      },
      "source": [
        "<a href=\"https://colab.research.google.com/github/anlianguzova/Python_BI_2022/blob/hw_6_re/code/hw_6_re.ipynb\" target=\"_parent\"><img src=\"https://colab.research.google.com/assets/colab-badge.svg\" alt=\"Open In Colab\"/></a>"
      ]
    },
    {
      "cell_type": "code",
      "execution_count": null,
      "metadata": {
        "id": "_jkZVwf4J145"
      },
      "outputs": [],
      "source": [
        "import re\n",
        "import matplotlib.pyplot as plt\n",
        "from collections import Counter"
      ]
    },
    {
      "cell_type": "markdown",
      "source": [
        "### References"
      ],
      "metadata": {
        "id": "CSC80xXWJ6LA"
      }
    },
    {
      "cell_type": "code",
      "source": [
        "with open(r'data/references.txt') as references:\n",
        "    references = references.read()\n",
        "    ftp_sep = re.sub(r';', ' ', references)\n",
        "    ftps = re.findall(r'ftp[\\w./]+', ftp_sep)\n",
        "\n",
        "with open(r'data/ftps.txt', 'w') as ftps_file:\n",
        "    ftps_file.write('\\n'.join(str(ftp) for ftp in ftps))"
      ],
      "metadata": {
        "id": "oibO66h8J5fJ"
      },
      "execution_count": null,
      "outputs": []
    },
    {
      "cell_type": "markdown",
      "source": [
        "### 2430 AD"
      ],
      "metadata": {
        "id": "lgniUGDsJ_xl"
      }
    },
    {
      "cell_type": "code",
      "source": [
        "with open('data/2430AD.txt') as story:\n",
        "    story = story.read()\n",
        "    # Getting numbers\n",
        "    story_num = re.findall(r'\\d+[0-9.]+', story)\n",
        "    # a/A-containing words\n",
        "    a_words = re.findall(r'\\w*a+\\w*', story, flags=re.IGNORECASE)\n",
        "    # exclamatory sentences\n",
        "    exclam_sent = re.findall(r'[\\w,\\s]+!', story)\n",
        "    # unique words\n",
        "    words = re.findall(r'[a-zA-z\\'\\-]+', story)\n",
        "    unique_words = list(set(map(lambda string: string.lower(), words)))\n"
      ],
      "metadata": {
        "id": "OKDX3nhYJ8jG"
      },
      "execution_count": null,
      "outputs": []
    },
    {
      "cell_type": "markdown",
      "source": [
        "### Histogram"
      ],
      "metadata": {
        "id": "eNmxyZu6pT2J"
      }
    },
    {
      "cell_type": "code",
      "source": [
        "length_words = list(map(lambda word: len(word), unique_words))\n",
        "len_occurrence = Counter(length_words)"
      ],
      "metadata": {
        "id": "iFSCI04UpTWc"
      },
      "execution_count": null,
      "outputs": []
    },
    {
      "cell_type": "code",
      "source": [
        "lengths = list(len_occurrence.keys())\n",
        "\n",
        "occurrences = list(len_occurrence.values())\n",
        "portion = []\n",
        "for value in occurrences:\n",
        "    portion.append(value/sum(len_occurrence.values()))"
      ],
      "metadata": {
        "id": "lAin0I62OLMl"
      },
      "execution_count": null,
      "outputs": []
    },
    {
      "cell_type": "code",
      "source": [
        "plt.style.use('ggplot')\n",
        "plt.bar(list(map(str, sorted(lengths))), portion, color='green')\n",
        "plt.xlabel('Word length', fontsize=14)\n",
        "plt.ylabel('Occurrence of the words', fontsize=14)"
      ],
      "metadata": {
        "colab": {
          "base_uri": "https://localhost:8080/"
        },
        "id": "xnZ1PVh9qNW6",
        "outputId": "78943a62-106a-490f-9727-d300db5582ea"
      },
      "execution_count": null,
      "outputs": [
        {
          "output_type": "stream",
          "name": "stdout",
          "text": [
            "5\n"
          ]
        }
      ]
    },
    {
      "cell_type": "markdown",
      "source": [
        "### Translate"
      ],
      "metadata": {
        "id": "g6AoceA_OF_x"
      }
    },
    {
      "cell_type": "code",
      "source": [
        "def translate(string: str) -> str:\n",
        "    vowels = 'ауоыэяюёиеАУОЫЭЯЮЁИЕ'\n",
        "    return re.sub(fr'([{vowels}])', fr'\\1к\\1', string, flags=re.IGNORECASE)"
      ],
      "metadata": {
        "id": "oh39ElPXOCaD"
      },
      "execution_count": null,
      "outputs": []
    },
    {
      "cell_type": "markdown",
      "source": [
        "### Additional task"
      ],
      "metadata": {
        "id": "DB6h85uYOCyi"
      }
    },
    {
      "cell_type": "code",
      "source": [
        "def word_count(text: str) -> int:\n",
        "    return len(re.findall(r'[a-zA-Zа-яА-Я\\-]+', text))\n",
        "\n",
        "def find_n_word_sentences(string: str, n: int) -> list:\n",
        "    sentences = re.findall(r'[\\w,:\\s]+', string)\n",
        "    suitable_sentences = list(filter(lambda x: word_count(x) == n, sentences))\n",
        "    ans = []\n",
        "    for sent in suitable_sentences:\n",
        "        ans.append(tuple(sent.split()))\n",
        "    return ans"
      ],
      "metadata": {
        "id": "KuEiF0FkOBuk"
      },
      "execution_count": null,
      "outputs": []
    }
  ]
}